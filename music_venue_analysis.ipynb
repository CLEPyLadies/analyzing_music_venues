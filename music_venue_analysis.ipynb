{
 "cells": [
  {
   "cell_type": "code",
   "execution_count": null,
   "id": "2d058e7a-d54a-4d2d-bc4e-dd7ff807707d",
   "metadata": {},
   "outputs": [],
   "source": [
    "import pandas as pd\n",
    "import datetime"
   ]
  },
  {
   "cell_type": "markdown",
   "id": "76700517-7f2f-4b0c-b960-e4a3026856d7",
   "metadata": {},
   "source": [
    "# Import your data"
   ]
  },
  {
   "cell_type": "code",
   "execution_count": null,
   "id": "3a647679-8238-4e43-8faf-d7e3d4d1501d",
   "metadata": {},
   "outputs": [],
   "source": [
    "data = pd.read_csv(\"venue_data_2023.csv\")"
   ]
  },
  {
   "cell_type": "markdown",
   "id": "b7f0a123-4295-4843-9906-e5bf56891b62",
   "metadata": {},
   "source": [
    "#  EDA (1 hr)\n",
    "## Explore your data. \n",
    "###  How much data do you have?\n",
    "###  Which venues do you have data for?\n",
    "### Do you have the same amount of data for each venue?\n",
    "### Is the data complete?\n",
    "### What else do you notice about your data?\n",
    "\n",
    "### How might you go about fixing these issues in your data?"
   ]
  },
  {
   "cell_type": "code",
   "execution_count": null,
   "id": "62d00e65-24fd-460d-b52b-bb4e80764ece",
   "metadata": {},
   "outputs": [],
   "source": []
  },
  {
   "cell_type": "code",
   "execution_count": null,
   "id": "6d3e1a0f-98d3-4a24-a4db-fd278df6560f",
   "metadata": {},
   "outputs": [],
   "source": []
  },
  {
   "cell_type": "code",
   "execution_count": null,
   "id": "bf2ad178-1ffe-47ab-ad00-6b68ca7933f2",
   "metadata": {},
   "outputs": [],
   "source": []
  },
  {
   "cell_type": "code",
   "execution_count": null,
   "id": "f8f16175-e038-42b9-b725-7a1186035591",
   "metadata": {},
   "outputs": [],
   "source": []
  },
  {
   "cell_type": "code",
   "execution_count": null,
   "id": "419d7f38-29ee-4aa9-a1e0-bc4ae31f7221",
   "metadata": {},
   "outputs": [],
   "source": []
  },
  {
   "cell_type": "code",
   "execution_count": null,
   "id": "8e85bec4-078c-4bdf-a4c2-b5c7167b621f",
   "metadata": {},
   "outputs": [],
   "source": []
  },
  {
   "cell_type": "markdown",
   "id": "2b0b81c6-c549-43a1-a379-f027084c8aad",
   "metadata": {},
   "source": [
    "# Analysis (1 hr)\n",
    "\n",
    "### What is the average cost of a ticket in Cleveland?\n",
    "### What is the average cost of a ticket for each venue?\n",
    "### Which venues have the most shows per month?\n",
    "### What is the most frequent start time?\n",
    "### What day has the most shows in the week?"
   ]
  },
  {
   "cell_type": "code",
   "execution_count": null,
   "id": "c127a08f-a600-4e53-bffa-2b11febe499b",
   "metadata": {},
   "outputs": [],
   "source": []
  },
  {
   "cell_type": "code",
   "execution_count": null,
   "id": "1cace06a-f97f-4bf1-a46c-9790ceba9ada",
   "metadata": {},
   "outputs": [],
   "source": []
  },
  {
   "cell_type": "code",
   "execution_count": null,
   "id": "33df6798-26b1-4d21-9849-13d5408ccc03",
   "metadata": {},
   "outputs": [],
   "source": []
  },
  {
   "cell_type": "code",
   "execution_count": null,
   "id": "d5b296ee-5ec4-4142-be2f-5c20a2a625b8",
   "metadata": {},
   "outputs": [],
   "source": []
  },
  {
   "cell_type": "code",
   "execution_count": null,
   "id": "31db556c-4bff-45c4-8832-785fdd54bc2e",
   "metadata": {},
   "outputs": [],
   "source": []
  },
  {
   "cell_type": "code",
   "execution_count": null,
   "id": "670b4f13-8c91-4d63-addf-26eb6031e135",
   "metadata": {},
   "outputs": [],
   "source": []
  },
  {
   "cell_type": "code",
   "execution_count": null,
   "id": "c4b439da-0ffe-4436-b37c-3793bb694238",
   "metadata": {},
   "outputs": [],
   "source": []
  },
  {
   "cell_type": "markdown",
   "id": "240482ad-00f3-4d43-b0e7-bea6b32c8cff",
   "metadata": {},
   "source": [
    "# BONUS:  Which bands play most frequently in Cleveland?"
   ]
  },
  {
   "cell_type": "code",
   "execution_count": null,
   "id": "23c88df2-7b92-420a-812b-b192abe530cf",
   "metadata": {},
   "outputs": [],
   "source": []
  }
 ],
 "metadata": {
  "kernelspec": {
   "display_name": "Python 3",
   "language": "python",
   "name": "python3"
  },
  "language_info": {
   "codemirror_mode": {
    "name": "ipython",
    "version": 3
   },
   "file_extension": ".py",
   "mimetype": "text/x-python",
   "name": "python",
   "nbconvert_exporter": "python",
   "pygments_lexer": "ipython3",
   "version": "3.8.8"
  }
 },
 "nbformat": 4,
 "nbformat_minor": 5
}
